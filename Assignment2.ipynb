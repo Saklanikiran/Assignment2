{
 "cells": [
  {
   "cell_type": "code",
   "execution_count": 1,
   "id": "539f3b71-d67f-4f4b-a7b1-2279da4d3b3c",
   "metadata": {},
   "outputs": [
    {
     "data": {
      "text/plain": [
       "\"\\nIn python their are two ways to comment a code\\n1- for single line comment '#'\\n2- for multiline comment '''  '''\\n\""
      ]
     },
     "execution_count": 1,
     "metadata": {},
     "output_type": "execute_result"
    }
   ],
   "source": [
    "# Ans:1\n",
    "\"\"\"\n",
    "I do a code comment in python by press 'ctrl+/'\n",
    "\"\"\"\n",
    "\"\"\"\n",
    "In python their are two ways to comment a code\n",
    "1- for single line comment: '#'\n",
    "2- for multiline comment: '''  '''\n",
    "\"\"\"\n"
   ]
  },
  {
   "cell_type": "code",
   "execution_count": 2,
   "id": "dc492023-ed90-4c31-b99c-c1b13dff6f84",
   "metadata": {},
   "outputs": [
    {
     "name": "stdin",
     "output_type": "stream",
     "text": [
      " Kiran\n"
     ]
    }
   ],
   "source": [
    "# Ans:2\n",
    "# Variable: variable in python are the container which hold the value\n",
    "#declaration and assign value\n",
    "\n",
    "# 1-by assignment oprator\n",
    "name=\"Kiran\"\n",
    "\n",
    "# 2-by taking input from the user\n",
    "name=input()\n",
    "\n"
   ]
  },
  {
   "cell_type": "code",
   "execution_count": 3,
   "id": "7140c489-5209-4d16-b117-69bc20e53b81",
   "metadata": {},
   "outputs": [
    {
     "name": "stdout",
     "output_type": "stream",
     "text": [
      "<class 'str'>\n",
      "<class 'int'>\n"
     ]
    }
   ],
   "source": [
    "# Ans:3\n",
    "# Python defines type conversion like int(),float() etc. which convert one data type into another directly it is called typecasting.\n",
    "# Example:\n",
    "a='3'\n",
    "print(type(a))\n",
    "a=int(a)\n",
    "print(type(a))"
   ]
  },
  {
   "cell_type": "code",
   "execution_count": 4,
   "id": "a8356846-18ad-4701-8a66-5a61f3e085c0",
   "metadata": {},
   "outputs": [
    {
     "data": {
      "text/plain": [
       "'\\nfor write and execute a python code from command line\\nwrite python code in any text editor like notepad\\nthen save the code as .py extention\\nopen the command promt in computer\\nthen write command filename.py and execute it\\n'"
      ]
     },
     "execution_count": 4,
     "metadata": {},
     "output_type": "execute_result"
    }
   ],
   "source": [
    "# Ans:4\n",
    "'''\n",
    "for write and execute a python code from command line\n",
    "write python code in any text editor like notepad\n",
    "then save the code as .py extention\n",
    "open the command promt in computer\n",
    "then write command filename.py and execute it\n",
    "'''"
   ]
  },
  {
   "cell_type": "code",
   "execution_count": 6,
   "id": "40f2c97e-5f29-4150-aab1-5013ebda44bb",
   "metadata": {},
   "outputs": [
    {
     "name": "stdout",
     "output_type": "stream",
     "text": [
      "[2, 3]\n"
     ]
    }
   ],
   "source": [
    "# Ans:5\n",
    "my_list=[1,2,3,4,5]\n",
    "print(my_list[1:3])"
   ]
  },
  {
   "cell_type": "code",
   "execution_count": 7,
   "id": "ea9246f8-58a8-4821-b67f-e4084c3f7c70",
   "metadata": {},
   "outputs": [
    {
     "name": "stdout",
     "output_type": "stream",
     "text": [
      "<class 'complex'>\n"
     ]
    }
   ],
   "source": [
    "# Ans:6\n",
    "'''\n",
    "Complex number:A complex number is a number that can be expressed in the\n",
    "form of a + ib where a represents the real part, and b is the imaginary part.\n",
    "'''\n",
    "# In python the complex number is represent in the form: a + bj where a is real part, b is an imaginary part and j is a notation for complex number\n",
    "# Example:\n",
    "com_num=6+7j\n",
    "print(type(com_num))\n"
   ]
  },
  {
   "cell_type": "code",
   "execution_count": 8,
   "id": "43d1bbb9-9337-448c-b7e6-3b3da7ab2cde",
   "metadata": {},
   "outputs": [
    {
     "name": "stdout",
     "output_type": "stream",
     "text": [
      "25\n"
     ]
    }
   ],
   "source": [
    "# Ans:7\n",
    "age=25\n",
    "print(age)"
   ]
  },
  {
   "cell_type": "code",
   "execution_count": 9,
   "id": "2baead6d-5d48-4e4b-b684-2642fbeb6615",
   "metadata": {},
   "outputs": [
    {
     "name": "stdout",
     "output_type": "stream",
     "text": [
      "<class 'float'>\n"
     ]
    }
   ],
   "source": [
    "# Ans:8\n",
    "price=9.99\n",
    "print(type(price))"
   ]
  },
  {
   "cell_type": "code",
   "execution_count": 10,
   "id": "a7c98412-3d21-4bb6-a6ee-202a5231617a",
   "metadata": {},
   "outputs": [
    {
     "name": "stdout",
     "output_type": "stream",
     "text": [
      "Kiran Saklani\n"
     ]
    }
   ],
   "source": [
    "# Ans:9\n",
    "name=\"Kiran Saklani\"\n",
    "print(name)"
   ]
  },
  {
   "cell_type": "code",
   "execution_count": 13,
   "id": "c8b77608-6f32-4d26-ba58-63e3197f714c",
   "metadata": {},
   "outputs": [
    {
     "name": "stdout",
     "output_type": "stream",
     "text": [
      "World\n"
     ]
    }
   ],
   "source": [
    "# Ans:10\n",
    "str1=\"Hello, World!\"\n",
    "print(str1[7:12])"
   ]
  },
  {
   "cell_type": "code",
   "execution_count": null,
   "id": "06ee71a1-062b-464c-b749-4e7e25ccc158",
   "metadata": {},
   "outputs": [],
   "source": []
  }
 ],
 "metadata": {
  "kernelspec": {
   "display_name": "Python 3 (ipykernel)",
   "language": "python",
   "name": "python3"
  },
  "language_info": {
   "codemirror_mode": {
    "name": "ipython",
    "version": 3
   },
   "file_extension": ".py",
   "mimetype": "text/x-python",
   "name": "python",
   "nbconvert_exporter": "python",
   "pygments_lexer": "ipython3",
   "version": "3.10.8"
  }
 },
 "nbformat": 4,
 "nbformat_minor": 5
}
